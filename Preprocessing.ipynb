{
 "cells": [
  {
   "cell_type": "code",
   "execution_count": 1,
   "metadata": {},
   "outputs": [],
   "source": [
    "#importing the required packages\n",
    "import pandas as pd\n",
    "import numpy as np\n",
    "\n",
    "import matplotlib.pyplot as plt\n",
    "import seaborn as sns\n",
    "\n",
    "from sklearn.preprocessing import OrdinalEncoder\n",
    "from statsmodels.stats.outliers_influence import variance_inflation_factor"
   ]
  },
  {
   "cell_type": "code",
   "execution_count": 45,
   "metadata": {},
   "outputs": [],
   "source": [
    "#reading all the required input files\n",
    "data2 = pd.read_csv('Dataset/courses.csv')"
   ]
  },
  {
   "cell_type": "code",
   "execution_count": 2,
   "metadata": {},
   "outputs": [],
   "source": [
    "#reading the merged file\n",
    "df = pd.read_parquet('merged_parquet',engine='fastparquet')"
   ]
  },
  {
   "cell_type": "code",
   "execution_count": 3,
   "metadata": {},
   "outputs": [
    {
     "data": {
      "text/plain": [
       "(8324303, 21)"
      ]
     },
     "execution_count": 3,
     "metadata": {},
     "output_type": "execute_result"
    }
   ],
   "source": [
    "df.shape"
   ]
  },
  {
   "cell_type": "code",
   "execution_count": 4,
   "metadata": {},
   "outputs": [
    {
     "name": "stdout",
     "output_type": "stream",
     "text": [
      "<class 'pandas.core.frame.DataFrame'>\n",
      "RangeIndex: 8324303 entries, 0 to 8324302\n",
      "Data columns (total 21 columns):\n",
      " #   Column                Dtype  \n",
      "---  ------                -----  \n",
      " 0   code_module           object \n",
      " 1   code_presentation     object \n",
      " 2   id_student            int64  \n",
      " 3   gender                object \n",
      " 4   highest_education     object \n",
      " 5   age_band              object \n",
      " 6   num_of_prev_attempts  int64  \n",
      " 7   studied_credits       int64  \n",
      " 8   disability            object \n",
      " 9   final_result          object \n",
      " 10  date_registration     float64\n",
      " 11  date_unregistration   float64\n",
      " 12  date                  int64  \n",
      " 13  sum_click             int64  \n",
      " 14  id_assessment         int64  \n",
      " 15  assessment_type       object \n",
      " 16  date_assessment       float64\n",
      " 17  weight                float64\n",
      " 18  date_submitted        int64  \n",
      " 19  is_banked             int64  \n",
      " 20  score                 float64\n",
      "dtypes: float64(5), int64(8), object(8)\n",
      "memory usage: 1.3+ GB\n"
     ]
    }
   ],
   "source": [
    "df.info()"
   ]
  },
  {
   "cell_type": "markdown",
   "metadata": {},
   "source": [
    "Filling the nan values"
   ]
  },
  {
   "cell_type": "code",
   "execution_count": 11,
   "metadata": {},
   "outputs": [
    {
     "data": {
      "text/plain": [
       "code_module                   0\n",
       "code_presentation             0\n",
       "id_student                    0\n",
       "gender                        0\n",
       "highest_education             0\n",
       "age_band                      0\n",
       "num_of_prev_attempts          0\n",
       "studied_credits               0\n",
       "disability                    0\n",
       "final_result                  0\n",
       "date_registration            56\n",
       "date_unregistration     7991936\n",
       "date                          0\n",
       "sum_click                     0\n",
       "id_assessment                 0\n",
       "assessment_type               0\n",
       "date_assessment          259743\n",
       "weight                        0\n",
       "date_submitted                0\n",
       "is_banked                     0\n",
       "score                      5932\n",
       "dtype: int64"
      ]
     },
     "execution_count": 11,
     "metadata": {},
     "output_type": "execute_result"
    }
   ],
   "source": [
    "#looking for null values\n",
    "df.isnull().sum()"
   ]
  },
  {
   "cell_type": "code",
   "execution_count": 3,
   "metadata": {},
   "outputs": [],
   "source": [
    "#filling null values\n",
    "#df['imd_band'].fillna(df['imd_band'].mode()[0], inplace=True)\n",
    "df['date_assessment'] = df.groupby(['id_student'])['date_assessment'].ffill()\n",
    "df['score'].fillna(df['score'].mean(),inplace=True)"
   ]
  },
  {
   "cell_type": "code",
   "execution_count": 4,
   "metadata": {},
   "outputs": [],
   "source": [
    "#for registration columns\n",
    "df['date_registration'] = df.groupby(['id_student'])['date_registration'].ffill()\n",
    "df['date_registration'] = df.groupby(['id_student'])['date_registration'].bfill()\n",
    "df = df.dropna(subset=['date_registration'])"
   ]
  },
  {
   "cell_type": "code",
   "execution_count": 5,
   "metadata": {},
   "outputs": [],
   "source": [
    "df.drop('date_unregistration',axis=1,inplace=True)"
   ]
  },
  {
   "cell_type": "code",
   "execution_count": 16,
   "metadata": {},
   "outputs": [],
   "source": [
    "#df['date_unregistration']\n",
    "df['date_unregistration'].fillna(0,inplace=True)"
   ]
  },
  {
   "cell_type": "code",
   "execution_count": 17,
   "metadata": {},
   "outputs": [
    {
     "data": {
      "text/plain": [
       "code_module             0\n",
       "code_presentation       0\n",
       "id_student              0\n",
       "gender                  0\n",
       "highest_education       0\n",
       "age_band                0\n",
       "num_of_prev_attempts    0\n",
       "studied_credits         0\n",
       "disability              0\n",
       "final_result            0\n",
       "date_registration       0\n",
       "date_unregistration     0\n",
       "date                    0\n",
       "sum_click               0\n",
       "id_assessment           0\n",
       "assessment_type         0\n",
       "date_assessment         0\n",
       "weight                  0\n",
       "date_submitted          0\n",
       "is_banked               0\n",
       "score                   0\n",
       "dtype: int64"
      ]
     },
     "execution_count": 17,
     "metadata": {},
     "output_type": "execute_result"
    }
   ],
   "source": [
    "#verifying no null values are left\n",
    "df.isnull().sum()"
   ]
  },
  {
   "cell_type": "code",
   "execution_count": 18,
   "metadata": {},
   "outputs": [
    {
     "data": {
      "text/plain": [
       "(8324300, 21)"
      ]
     },
     "execution_count": 18,
     "metadata": {},
     "output_type": "execute_result"
    }
   ],
   "source": [
    "#verifying the number of rows\n",
    "df.shape"
   ]
  },
  {
   "cell_type": "code",
   "execution_count": 21,
   "metadata": {},
   "outputs": [
    {
     "name": "stdout",
     "output_type": "stream",
     "text": [
      "\n"
     ]
    }
   ],
   "source": [
    "#dropping student and assessment ids because it's not needed for building the model\n",
    "df.drop(['id_student','id_assessment',],\n",
    "  axis='columns', inplace=True)"
   ]
  },
  {
   "cell_type": "code",
   "execution_count": 27,
   "metadata": {},
   "outputs": [
    {
     "data": {
      "text/plain": [
       "(8324300, 19)"
      ]
     },
     "execution_count": 27,
     "metadata": {},
     "output_type": "execute_result"
    }
   ],
   "source": [
    "df.shape"
   ]
  },
  {
   "cell_type": "markdown",
   "metadata": {},
   "source": [
    "Downsizing the columns"
   ]
  },
  {
   "cell_type": "code",
   "execution_count": 6,
   "metadata": {},
   "outputs": [],
   "source": [
    "#getting a list of numeric columns\n",
    "numeric = df.select_dtypes(include=np.number).columns.tolist()"
   ]
  },
  {
   "cell_type": "code",
   "execution_count": 29,
   "metadata": {},
   "outputs": [
    {
     "name": "stdout",
     "output_type": "stream",
     "text": [
      "---- num_of_prev_attempts ----\n",
      "Max 6\n",
      "Min 0\n",
      "---- studied_credits ----\n",
      "Max 630\n",
      "Min 30\n",
      "---- date_registration ----\n",
      "Max 101.0\n",
      "Min -311.0\n",
      "---- date_unregistration ----\n",
      "Max 444.0\n",
      "Min -196.0\n",
      "---- date ----\n",
      "Max 268\n",
      "Min -25\n",
      "---- sum_click ----\n",
      "Max 6988\n",
      "Min 1\n",
      "---- date_assessment ----\n",
      "Max 261.0\n",
      "Min 12.0\n",
      "---- weight ----\n",
      "Max 100.0\n",
      "Min 0.0\n",
      "---- date_submitted ----\n",
      "Max 608\n",
      "Min -10\n",
      "---- is_banked ----\n",
      "Max 1\n",
      "Min 0\n",
      "---- score ----\n",
      "Max 100.0\n",
      "Min 0.0\n"
     ]
    }
   ],
   "source": [
    "#finding max and min values for each numeric columns\n",
    "for i in numeric:\n",
    "    print(\"----\",i,\"----\")\n",
    "    print(\"Max\",df[i].max())\n",
    "    print(\"Min\",df[i].min())"
   ]
  },
  {
   "cell_type": "code",
   "execution_count": 11,
   "metadata": {},
   "outputs": [
    {
     "data": {
      "text/plain": [
       "['id_student',\n",
       " 'num_of_prev_attempts',\n",
       " 'studied_credits',\n",
       " 'date_registration',\n",
       " 'date',\n",
       " 'sum_click',\n",
       " 'id_assessment',\n",
       " 'date_assessment',\n",
       " 'weight',\n",
       " 'date_submitted',\n",
       " 'is_banked',\n",
       " 'score']"
      ]
     },
     "execution_count": 11,
     "metadata": {},
     "output_type": "execute_result"
    }
   ],
   "source": [
    "#removing id_assessment because it crosses 16-bit threshold\n",
    "#numeric.remove('id_assessment')\n",
    "numeric"
   ]
  },
  {
   "cell_type": "code",
   "execution_count": 7,
   "metadata": {},
   "outputs": [],
   "source": [
    "#converting to 16-bit integer type\n",
    "for i in numeric:\n",
    "    #print(i)\n",
    "    df[i] = df[i].astype('int16')"
   ]
  },
  {
   "cell_type": "code",
   "execution_count": 8,
   "metadata": {},
   "outputs": [
    {
     "data": {
      "text/plain": [
       "['code_module',\n",
       " 'code_presentation',\n",
       " 'gender',\n",
       " 'highest_education',\n",
       " 'age_band',\n",
       " 'disability',\n",
       " 'final_result',\n",
       " 'assessment_type']"
      ]
     },
     "execution_count": 8,
     "metadata": {},
     "output_type": "execute_result"
    }
   ],
   "source": [
    "#obtaining all the object datatype columns\n",
    "obj = df.select_dtypes(include=object).columns.tolist()\n",
    "obj"
   ]
  },
  {
   "cell_type": "code",
   "execution_count": 9,
   "metadata": {},
   "outputs": [],
   "source": [
    "#converting object to categorical\n",
    "for i in obj:\n",
    "    df[i] = df[i].astype('category')"
   ]
  },
  {
   "cell_type": "code",
   "execution_count": 10,
   "metadata": {},
   "outputs": [],
   "source": [
    "df.drop(['gender','highest_education','is_banked','final_result','disability'],axis=1,inplace=True)"
   ]
  },
  {
   "cell_type": "code",
   "execution_count": 18,
   "metadata": {},
   "outputs": [
    {
     "name": "stdout",
     "output_type": "stream",
     "text": [
      "<class 'pandas.core.frame.DataFrame'>\n",
      "Int64Index: 8324300 entries, 0 to 8324302\n",
      "Data columns (total 15 columns):\n",
      " #   Column                Dtype   \n",
      "---  ------                -----   \n",
      " 0   code_module           category\n",
      " 1   code_presentation     category\n",
      " 2   id_student            int16   \n",
      " 3   age_band              category\n",
      " 4   num_of_prev_attempts  int16   \n",
      " 5   studied_credits       int16   \n",
      " 6   date_registration     int16   \n",
      " 7   date                  int16   \n",
      " 8   sum_click             int16   \n",
      " 9   id_assessment         int16   \n",
      " 10  assessment_type       category\n",
      " 11  date_assessment       int16   \n",
      " 12  weight                int16   \n",
      " 13  date_submitted        int16   \n",
      " 14  score                 int16   \n",
      "dtypes: category(4), int16(11)\n",
      "memory usage: 269.9 MB\n"
     ]
    }
   ],
   "source": [
    "df.info()"
   ]
  },
  {
   "cell_type": "code",
   "execution_count": null,
   "metadata": {},
   "outputs": [],
   "source": [
    "df1 = df.groupby(['code_module','code_presentation','id_student','id_assessment'])['sum_click'].sum().reset_index()"
   ]
  },
  {
   "cell_type": "code",
   "execution_count": 17,
   "metadata": {},
   "outputs": [],
   "source": [
    "df.drop(['id_student','code_module','code_presentation','id_assessment'],axis=1,inplace=True)"
   ]
  },
  {
   "cell_type": "code",
   "execution_count": 19,
   "metadata": {},
   "outputs": [
    {
     "data": {
      "text/plain": [
       "(8324300, 9)"
      ]
     },
     "execution_count": 19,
     "metadata": {},
     "output_type": "execute_result"
    }
   ],
   "source": [
    "df.shape"
   ]
  },
  {
   "cell_type": "code",
   "execution_count": 22,
   "metadata": {},
   "outputs": [],
   "source": [
    "df1.drop_duplicates(inplace=True)"
   ]
  },
  {
   "cell_type": "code",
   "execution_count": 23,
   "metadata": {},
   "outputs": [
    {
     "data": {
      "text/plain": [
       "(8224084, 9)"
      ]
     },
     "execution_count": 23,
     "metadata": {},
     "output_type": "execute_result"
    }
   ],
   "source": [
    "df1.shape"
   ]
  },
  {
   "cell_type": "code",
   "execution_count": 25,
   "metadata": {},
   "outputs": [
    {
     "data": {
      "text/html": [
       "<div>\n",
       "<style scoped>\n",
       "    .dataframe tbody tr th:only-of-type {\n",
       "        vertical-align: middle;\n",
       "    }\n",
       "\n",
       "    .dataframe tbody tr th {\n",
       "        vertical-align: top;\n",
       "    }\n",
       "\n",
       "    .dataframe thead th {\n",
       "        text-align: right;\n",
       "    }\n",
       "</style>\n",
       "<table border=\"1\" class=\"dataframe\">\n",
       "  <thead>\n",
       "    <tr style=\"text-align: right;\">\n",
       "      <th></th>\n",
       "      <th>num_of_prev_attempts</th>\n",
       "      <th>date_registration</th>\n",
       "      <th>date</th>\n",
       "      <th>sum_click</th>\n",
       "      <th>assessment_type</th>\n",
       "      <th>date_assessment</th>\n",
       "      <th>weight</th>\n",
       "      <th>date_submitted</th>\n",
       "      <th>score</th>\n",
       "    </tr>\n",
       "  </thead>\n",
       "  <tbody>\n",
       "    <tr>\n",
       "      <th>0</th>\n",
       "      <td>0</td>\n",
       "      <td>-159</td>\n",
       "      <td>-5</td>\n",
       "      <td>98</td>\n",
       "      <td>TMA</td>\n",
       "      <td>19</td>\n",
       "      <td>10</td>\n",
       "      <td>18</td>\n",
       "      <td>78</td>\n",
       "    </tr>\n",
       "    <tr>\n",
       "      <th>1</th>\n",
       "      <td>0</td>\n",
       "      <td>-159</td>\n",
       "      <td>-5</td>\n",
       "      <td>98</td>\n",
       "      <td>TMA</td>\n",
       "      <td>54</td>\n",
       "      <td>20</td>\n",
       "      <td>53</td>\n",
       "      <td>85</td>\n",
       "    </tr>\n",
       "    <tr>\n",
       "      <th>2</th>\n",
       "      <td>0</td>\n",
       "      <td>-159</td>\n",
       "      <td>-5</td>\n",
       "      <td>98</td>\n",
       "      <td>TMA</td>\n",
       "      <td>117</td>\n",
       "      <td>20</td>\n",
       "      <td>115</td>\n",
       "      <td>80</td>\n",
       "    </tr>\n",
       "    <tr>\n",
       "      <th>3</th>\n",
       "      <td>0</td>\n",
       "      <td>-159</td>\n",
       "      <td>-5</td>\n",
       "      <td>98</td>\n",
       "      <td>TMA</td>\n",
       "      <td>166</td>\n",
       "      <td>20</td>\n",
       "      <td>164</td>\n",
       "      <td>85</td>\n",
       "    </tr>\n",
       "    <tr>\n",
       "      <th>4</th>\n",
       "      <td>0</td>\n",
       "      <td>-159</td>\n",
       "      <td>-5</td>\n",
       "      <td>98</td>\n",
       "      <td>TMA</td>\n",
       "      <td>215</td>\n",
       "      <td>30</td>\n",
       "      <td>212</td>\n",
       "      <td>82</td>\n",
       "    </tr>\n",
       "  </tbody>\n",
       "</table>\n",
       "</div>"
      ],
      "text/plain": [
       "   num_of_prev_attempts  date_registration  date  sum_click assessment_type  \\\n",
       "0                     0               -159    -5         98             TMA   \n",
       "1                     0               -159    -5         98             TMA   \n",
       "2                     0               -159    -5         98             TMA   \n",
       "3                     0               -159    -5         98             TMA   \n",
       "4                     0               -159    -5         98             TMA   \n",
       "\n",
       "   date_assessment  weight  date_submitted  score  \n",
       "0               19      10              18     78  \n",
       "1               54      20              53     85  \n",
       "2              117      20             115     80  \n",
       "3              166      20             164     85  \n",
       "4              215      30             212     82  "
      ]
     },
     "execution_count": 25,
     "metadata": {},
     "output_type": "execute_result"
    }
   ],
   "source": [
    "df1.head()"
   ]
  },
  {
   "cell_type": "code",
   "execution_count": 41,
   "metadata": {},
   "outputs": [
    {
     "name": "stdout",
     "output_type": "stream",
     "text": [
      "---- num_of_prev_attempts ----\n",
      "821836\n",
      "---- studied_credits ----\n",
      "444182\n",
      "---- date_registration ----\n",
      "103469\n",
      "---- date_unregistration ----\n",
      "332220\n",
      "---- date ----\n",
      "379\n",
      "---- sum_click ----\n",
      "659984\n",
      "---- date_assessment ----\n",
      "0\n",
      "---- weight ----\n",
      "480635\n",
      "---- date_submitted ----\n",
      "2829\n",
      "---- is_banked ----\n",
      "4522\n",
      "---- score ----\n",
      "217134\n"
     ]
    }
   ],
   "source": [
    "#Number of outliers in each numeric column\n",
    "for i in numeric:\n",
    "    print(\"----\",i,\"----\")\n",
    "    Q1 = df[i].quantile(0.25)\n",
    "    Q3 = df[i].quantile(0.75)\n",
    "    IQR = Q3-Q1\n",
    "    print(((df[i] < (Q1 - 1.5 * IQR)) | (df[i] > (Q3 + 1.5 * IQR))).sum())     "
   ]
  },
  {
   "cell_type": "markdown",
   "metadata": {},
   "source": [
    "Checking Outliers"
   ]
  },
  {
   "cell_type": "code",
   "execution_count": 42,
   "metadata": {},
   "outputs": [
    {
     "data": {
      "image/png": "[encoded data removed]",
      "text/plain": [
       "<Figure size 432x288 with 1 Axes>"
      ]
     },
     "metadata": {
      "needs_background": "light"
     },
     "output_type": "display_data"
    },
    {
     "data": {
      "image/png": "[encoded data removed]",
      "text/plain": [
       "<Figure size 432x288 with 1 Axes>"
      ]
     },
     "metadata": {
      "needs_background": "light"
     },
     "output_type": "display_data"
    },
    {
     "data": {
      "image/png": "[encoded data removed]",
      "text/plain": [
       "<Figure size 432x288 with 1 Axes>"
      ]
     },
     "metadata": {
      "needs_background": "light"
     },
     "output_type": "display_data"
    },
    {
     "data": {
      "image/png": "[encoded data removed]",
      "text/plain": [
       "<Figure size 432x288 with 1 Axes>"
      ]
     },
     "metadata": {
      "needs_background": "light"
     },
     "output_type": "display_data"
    },
    {
     "data": {
      "image/png": "[encoded data removed]",
      "text/plain": [
       "<Figure size 432x288 with 1 Axes>"
      ]
     },
     "metadata": {
      "needs_background": "light"
     },
     "output_type": "display_data"
    },
    {
     "data": {
      "image/png": "[encoded data removed]",
      "text/plain": [
       "<Figure size 432x288 with 1 Axes>"
      ]
     },
     "metadata": {
      "needs_background": "light"
     },
     "output_type": "display_data"
    },
    {
     "data": {
      "image/png": "[encoded data removed]",
      "text/plain": [
       "<Figure size 432x288 with 1 Axes>"
      ]
     },
     "metadata": {
      "needs_background": "light"
     },
     "output_type": "display_data"
    },
    {
     "data": {
      "image/png": "[encoded data removed]",
      "text/plain": [
       "<Figure size 432x288 with 1 Axes>"
      ]
     },
     "metadata": {
      "needs_background": "light"
     },
     "output_type": "display_data"
    },
    {
     "data": {
      "image/png": "[encoded data removed]",
      "text/plain": [
       "<Figure size 432x288 with 1 Axes>"
      ]
     },
     "metadata": {
      "needs_background": "light"
     },
     "output_type": "display_data"
    },
    {
     "data": {
      "image/png": "[encoded data removed]",
      "text/plain": [
       "<Figure size 432x288 with 1 Axes>"
      ]
     },
     "metadata": {
      "needs_background": "light"
     },
     "output_type": "display_data"
    },
    {
     "data": {
      "image/png": "[encoded data removed]",
      "text/plain": [
       "<Figure size 432x288 with 1 Axes>"
      ]
     },
     "metadata": {
      "needs_background": "light"
     },
     "output_type": "display_data"
    }
   ],
   "source": [
    "#boxplots of all the numeric columns\n",
    "for column in numeric:\n",
    "    plt.figure()\n",
    "    df.boxplot([column])"
   ]
  },
  {
   "cell_type": "markdown",
   "metadata": {},
   "source": [
    "Removing outliers in the unregistered column"
   ]
  },
  {
   "cell_type": "code",
   "execution_count": 43,
   "metadata": {},
   "outputs": [],
   "source": [
    "#another dataframe to load all the values to remove a few rows based on date_unregistered column\n",
    "df_unregister = pd.DataFrame()\n",
    "cols = ['date_unregistration','code_module','code_presentation']\n",
    "for i in cols:\n",
    "    df_unregister[i]=df[i]"
   ]
  },
  {
   "cell_type": "code",
   "execution_count": 46,
   "metadata": {},
   "outputs": [],
   "source": [
    "#merging code_info and df_unregister\n",
    "df_unregister = pd.merge(df_unregister,data2, on=['code_module','code_presentation'],how='inner')"
   ]
  },
  {
   "cell_type": "code",
   "execution_count": 47,
   "metadata": {},
   "outputs": [
    {
     "data": {
      "text/html": [
       "<div>\n",
       "<style scoped>\n",
       "    .dataframe tbody tr th:only-of-type {\n",
       "        vertical-align: middle;\n",
       "    }\n",
       "\n",
       "    .dataframe tbody tr th {\n",
       "        vertical-align: top;\n",
       "    }\n",
       "\n",
       "    .dataframe thead th {\n",
       "        text-align: right;\n",
       "    }\n",
       "</style>\n",
       "<table border=\"1\" class=\"dataframe\">\n",
       "  <thead>\n",
       "    <tr style=\"text-align: right;\">\n",
       "      <th></th>\n",
       "      <th>date_unregistration</th>\n",
       "      <th>code_module</th>\n",
       "      <th>code_presentation</th>\n",
       "      <th>module_presentation_length</th>\n",
       "    </tr>\n",
       "  </thead>\n",
       "  <tbody>\n",
       "    <tr>\n",
       "      <th>0</th>\n",
       "      <td>0</td>\n",
       "      <td>AAA</td>\n",
       "      <td>2013J</td>\n",
       "      <td>268</td>\n",
       "    </tr>\n",
       "    <tr>\n",
       "      <th>1</th>\n",
       "      <td>0</td>\n",
       "      <td>AAA</td>\n",
       "      <td>2013J</td>\n",
       "      <td>268</td>\n",
       "    </tr>\n",
       "    <tr>\n",
       "      <th>2</th>\n",
       "      <td>0</td>\n",
       "      <td>AAA</td>\n",
       "      <td>2013J</td>\n",
       "      <td>268</td>\n",
       "    </tr>\n",
       "    <tr>\n",
       "      <th>3</th>\n",
       "      <td>0</td>\n",
       "      <td>AAA</td>\n",
       "      <td>2013J</td>\n",
       "      <td>268</td>\n",
       "    </tr>\n",
       "    <tr>\n",
       "      <th>4</th>\n",
       "      <td>0</td>\n",
       "      <td>AAA</td>\n",
       "      <td>2013J</td>\n",
       "      <td>268</td>\n",
       "    </tr>\n",
       "  </tbody>\n",
       "</table>\n",
       "</div>"
      ],
      "text/plain": [
       "   date_unregistration code_module code_presentation  \\\n",
       "0                    0         AAA             2013J   \n",
       "1                    0         AAA             2013J   \n",
       "2                    0         AAA             2013J   \n",
       "3                    0         AAA             2013J   \n",
       "4                    0         AAA             2013J   \n",
       "\n",
       "   module_presentation_length  \n",
       "0                         268  \n",
       "1                         268  \n",
       "2                         268  \n",
       "3                         268  \n",
       "4                         268  "
      ]
     },
     "execution_count": 47,
     "metadata": {},
     "output_type": "execute_result"
    }
   ],
   "source": [
    "df_unregister.head()"
   ]
  },
  {
   "cell_type": "code",
   "execution_count": 48,
   "metadata": {},
   "outputs": [],
   "source": [
    "#obtaing the indices of the rows with date_unreg>=module_presentation length\n",
    "ind = df_unregister[df_unregister['date_unregistration']>=df_unregister['module_presentation_length']].index.tolist()\n",
    "#ind"
   ]
  },
  {
   "cell_type": "code",
   "execution_count": 49,
   "metadata": {},
   "outputs": [],
   "source": [
    "#dropping all the obtained rows\n",
    "df.drop(ind, axis='rows',inplace = True)"
   ]
  },
  {
   "cell_type": "code",
   "execution_count": 8,
   "metadata": {},
   "outputs": [],
   "source": [
    "df.drop(['code_module','code_presentation','final_result'],\n",
    "  axis='columns', inplace=True)"
   ]
  },
  {
   "cell_type": "code",
   "execution_count": 14,
   "metadata": {},
   "outputs": [
    {
     "data": {
      "text/plain": [
       "Index(['gender', 'highest_education', 'age_band', 'num_of_prev_attempts',\n",
       "       'studied_credits', 'disability', 'date_registration',\n",
       "       'date_unregistration', 'date', 'sum_click', 'assessment_type',\n",
       "       'date_assessment', 'weight', 'date_submitted', 'is_banked', 'score'],\n",
       "      dtype='object')"
      ]
     },
     "execution_count": 14,
     "metadata": {},
     "output_type": "execute_result"
    }
   ],
   "source": [
    "df.columns"
   ]
  },
  {
   "cell_type": "code",
   "execution_count": 15,
   "metadata": {},
   "outputs": [
    {
     "data": {
      "text/plain": [
       "(8324172, 16)"
      ]
     },
     "execution_count": 15,
     "metadata": {},
     "output_type": "execute_result"
    }
   ],
   "source": [
    "df.shape"
   ]
  },
  {
   "cell_type": "markdown",
   "metadata": {},
   "source": [
    "Correlation for the numeric columns"
   ]
  },
  {
   "cell_type": "code",
   "execution_count": 25,
   "metadata": {},
   "outputs": [
    {
     "data": {
      "text/plain": [
       "<matplotlib.axes._subplots.AxesSubplot at 0x298c9540b20>"
      ]
     },
     "execution_count": 25,
     "metadata": {},
     "output_type": "execute_result"
    },
    {
     "data": {
      "image/png": "[encoded data removed]",
      "text/plain": [
       "<Figure size 432x288 with 2 Axes>"
      ]
     },
     "metadata": {
      "needs_background": "light"
     },
     "output_type": "display_data"
    }
   ],
   "source": [
    "df_cont = pd.DataFrame()\n",
    "for i in numeric:\n",
    "    df_cont[i] = df[i]\n",
    "corrdf = df_cont.corr(method ='pearson')\n",
    "sns.heatmap(corrdf)"
   ]
  },
  {
   "cell_type": "markdown",
   "metadata": {},
   "source": [
    "Checking if pca is needed"
   ]
  },
  {
   "cell_type": "code",
   "execution_count": 98,
   "metadata": {},
   "outputs": [],
   "source": [
    "from statsmodels.stats.outliers_influence import variance_inflation_factor"
   ]
  },
  {
   "cell_type": "code",
   "execution_count": null,
   "metadata": {},
   "outputs": [],
   "source": [
    "vif_data = pd.DataFrame()\n",
    "vif_data[\"feature\"] = df.columns\n",
    "vif_data[\"VIF\"] = [variance_inflation_factor(df.values, i) for i in range(len(df.columns))]"
   ]
  },
  {
   "cell_type": "code",
   "execution_count": 102,
   "metadata": {},
   "outputs": [
    {
     "data": {
      "text/html": [
       "<div>\n",
       "<style scoped>\n",
       "    .dataframe tbody tr th:only-of-type {\n",
       "        vertical-align: middle;\n",
       "    }\n",
       "\n",
       "    .dataframe tbody tr th {\n",
       "        vertical-align: top;\n",
       "    }\n",
       "\n",
       "    .dataframe thead th {\n",
       "        text-align: right;\n",
       "    }\n",
       "</style>\n",
       "<table border=\"1\" class=\"dataframe\">\n",
       "  <thead>\n",
       "    <tr style=\"text-align: right;\">\n",
       "      <th></th>\n",
       "      <th>feature</th>\n",
       "      <th>VIF</th>\n",
       "    </tr>\n",
       "  </thead>\n",
       "  <tbody>\n",
       "    <tr>\n",
       "      <th>0</th>\n",
       "      <td>num_of_prev_attempts</td>\n",
       "      <td>1.141196</td>\n",
       "    </tr>\n",
       "    <tr>\n",
       "      <th>1</th>\n",
       "      <td>studied_credits</td>\n",
       "      <td>2.781218</td>\n",
       "    </tr>\n",
       "    <tr>\n",
       "      <th>2</th>\n",
       "      <td>date_registration</td>\n",
       "      <td>21.083515</td>\n",
       "    </tr>\n",
       "    <tr>\n",
       "      <th>3</th>\n",
       "      <td>date_unregistration</td>\n",
       "      <td>21.641615</td>\n",
       "    </tr>\n",
       "    <tr>\n",
       "      <th>4</th>\n",
       "      <td>date</td>\n",
       "      <td>4.437395</td>\n",
       "    </tr>\n",
       "    <tr>\n",
       "      <th>5</th>\n",
       "      <td>sum_click</td>\n",
       "      <td>1.389575</td>\n",
       "    </tr>\n",
       "    <tr>\n",
       "      <th>6</th>\n",
       "      <td>date_assessment</td>\n",
       "      <td>19.818336</td>\n",
       "    </tr>\n",
       "    <tr>\n",
       "      <th>7</th>\n",
       "      <td>weight</td>\n",
       "      <td>1.705996</td>\n",
       "    </tr>\n",
       "    <tr>\n",
       "      <th>8</th>\n",
       "      <td>date_submitted</td>\n",
       "      <td>26.649363</td>\n",
       "    </tr>\n",
       "    <tr>\n",
       "      <th>9</th>\n",
       "      <td>is_banked</td>\n",
       "      <td>1.008912</td>\n",
       "    </tr>\n",
       "    <tr>\n",
       "      <th>10</th>\n",
       "      <td>score</td>\n",
       "      <td>15.834337</td>\n",
       "    </tr>\n",
       "  </tbody>\n",
       "</table>\n",
       "</div>"
      ],
      "text/plain": [
       "                 feature        VIF\n",
       "0   num_of_prev_attempts   1.141196\n",
       "1        studied_credits   2.781218\n",
       "2      date_registration  21.083515\n",
       "3    date_unregistration  21.641615\n",
       "4                   date   4.437395\n",
       "5              sum_click   1.389575\n",
       "6        date_assessment  19.818336\n",
       "7                 weight   1.705996\n",
       "8         date_submitted  26.649363\n",
       "9              is_banked   1.008912\n",
       "10                 score  15.834337"
      ]
     },
     "execution_count": 102,
     "metadata": {},
     "output_type": "execute_result"
    }
   ],
   "source": [
    "vif_data"
   ]
  },
  {
   "cell_type": "code",
   "execution_count": 125,
   "metadata": {},
   "outputs": [],
   "source": [
    "#converting the obtained data to parquet file\n",
    "df.to_parquet('preprocessed_parquet',index=False)"
   ]
  }
 ],
 "metadata": {
  "kernelspec": {
   "display_name": "Python 3",
   "language": "python",
   "name": "python3"
  },
  "language_info": {
   "codemirror_mode": {
    "name": "ipython",
    "version": 3
   },
   "file_extension": ".py",
   "mimetype": "text/x-python",
   "name": "python",
   "nbconvert_exporter": "python",
   "pygments_lexer": "ipython3",
   "version": "3.8.3"
  }
 },
 "nbformat": 4,
 "nbformat_minor": 4
}
