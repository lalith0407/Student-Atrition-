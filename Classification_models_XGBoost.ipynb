{
  "nbformat": 4,
  "nbformat_minor": 0,
  "metadata": {
    "kernelspec": {
      "display_name": "Python 3",
      "language": "python",
      "name": "python3"
    },
    "language_info": {
      "codemirror_mode": {
        "name": "ipython",
        "version": 3
      },
      "file_extension": ".py",
      "mimetype": "text/x-python",
      "name": "python",
      "nbconvert_exporter": "python",
      "pygments_lexer": "ipython3",
      "version": "3.8.3"
    },
    "colab": {
      "name": "Classification_models_XGBoost.ipynb",
      "provenance": [],
      "collapsed_sections": []
    }
  },
  "cells": [
    {
      "cell_type": "code",
      "metadata": {
        "id": "C78-z5lfZJ8x"
      },
      "source": [
        "import pandas as pd\n",
        "import matplotlib.pyplot as plt\n",
        "\n",
        "from sklearn.metrics import classification_report"
      ],
      "execution_count": 1,
      "outputs": []
    },
    {
      "cell_type": "code",
      "metadata": {
        "colab": {
          "base_uri": "https://localhost:8080/"
        },
        "id": "c17qvq-T8hPw",
        "outputId": "f91ba8ed-a7db-428c-89f1-39afb81da69f"
      },
      "source": [
        "from google.colab import drive\n",
        "drive.mount('/content/gdrive')"
      ],
      "execution_count": 2,
      "outputs": [
        {
          "output_type": "stream",
          "name": "stdout",
          "text": [
            "Mounted at /content/gdrive\n"
          ]
        }
      ]
    },
    {
      "cell_type": "code",
      "metadata": {
        "id": "FNrQn2KC8sTu"
      },
      "source": [
        "classification_parquet = '/content/gdrive/MyDrive/Colab Notebooks/classification_parquet'"
      ],
      "execution_count": 3,
      "outputs": []
    },
    {
      "cell_type": "code",
      "metadata": {
        "id": "z80DuHfqZJ8z"
      },
      "source": [
        "df = pd.read_parquet(classification_parquet)"
      ],
      "execution_count": 4,
      "outputs": []
    },
    {
      "cell_type": "code",
      "metadata": {
        "colab": {
          "base_uri": "https://localhost:8080/"
        },
        "id": "RMlzBWivZJ8z",
        "outputId": "a7b05a18-bc01-4af3-b9b5-2e44a92fbea7"
      },
      "source": [
        "df.info()"
      ],
      "execution_count": 5,
      "outputs": [
        {
          "output_type": "stream",
          "name": "stdout",
          "text": [
            "<class 'pandas.core.frame.DataFrame'>\n",
            "RangeIndex: 3748833 entries, 0 to 3748832\n",
            "Data columns (total 10 columns):\n",
            " #   Column                Dtype\n",
            "---  ------                -----\n",
            " 0   num_of_prev_attempts  int16\n",
            " 1   studied_credits       int16\n",
            " 2   date_registration     int16\n",
            " 3   sum_click             int16\n",
            " 4   date_assessment       int16\n",
            " 5   weight                int16\n",
            " 6   score                 int64\n",
            " 7   assessment_type_CMA   uint8\n",
            " 8   assessment_type_Exam  uint8\n",
            " 9   assessment_type_TMA   uint8\n",
            "dtypes: int16(6), int64(1), uint8(3)\n",
            "memory usage: 82.2 MB\n"
          ]
        }
      ]
    },
    {
      "cell_type": "code",
      "metadata": {
        "colab": {
          "base_uri": "https://localhost:8080/",
          "height": 206
        },
        "id": "IErkz1PP_heH",
        "outputId": "ff448a95-0801-46c9-df87-c4f6c66d8477"
      },
      "source": [
        "df.head()"
      ],
      "execution_count": 6,
      "outputs": [
        {
          "output_type": "execute_result",
          "data": {
            "text/html": [
              "<div>\n",
              "<style scoped>\n",
              "    .dataframe tbody tr th:only-of-type {\n",
              "        vertical-align: middle;\n",
              "    }\n",
              "\n",
              "    .dataframe tbody tr th {\n",
              "        vertical-align: top;\n",
              "    }\n",
              "\n",
              "    .dataframe thead th {\n",
              "        text-align: right;\n",
              "    }\n",
              "</style>\n",
              "<table border=\"1\" class=\"dataframe\">\n",
              "  <thead>\n",
              "    <tr style=\"text-align: right;\">\n",
              "      <th></th>\n",
              "      <th>num_of_prev_attempts</th>\n",
              "      <th>studied_credits</th>\n",
              "      <th>date_registration</th>\n",
              "      <th>sum_click</th>\n",
              "      <th>date_assessment</th>\n",
              "      <th>weight</th>\n",
              "      <th>score</th>\n",
              "      <th>assessment_type_CMA</th>\n",
              "      <th>assessment_type_Exam</th>\n",
              "      <th>assessment_type_TMA</th>\n",
              "    </tr>\n",
              "  </thead>\n",
              "  <tbody>\n",
              "    <tr>\n",
              "      <th>0</th>\n",
              "      <td>0</td>\n",
              "      <td>240</td>\n",
              "      <td>-159</td>\n",
              "      <td>98</td>\n",
              "      <td>19</td>\n",
              "      <td>10</td>\n",
              "      <td>7</td>\n",
              "      <td>0</td>\n",
              "      <td>0</td>\n",
              "      <td>1</td>\n",
              "    </tr>\n",
              "    <tr>\n",
              "      <th>1</th>\n",
              "      <td>0</td>\n",
              "      <td>240</td>\n",
              "      <td>-159</td>\n",
              "      <td>98</td>\n",
              "      <td>54</td>\n",
              "      <td>20</td>\n",
              "      <td>8</td>\n",
              "      <td>0</td>\n",
              "      <td>0</td>\n",
              "      <td>1</td>\n",
              "    </tr>\n",
              "    <tr>\n",
              "      <th>2</th>\n",
              "      <td>0</td>\n",
              "      <td>240</td>\n",
              "      <td>-159</td>\n",
              "      <td>98</td>\n",
              "      <td>117</td>\n",
              "      <td>20</td>\n",
              "      <td>7</td>\n",
              "      <td>0</td>\n",
              "      <td>0</td>\n",
              "      <td>1</td>\n",
              "    </tr>\n",
              "    <tr>\n",
              "      <th>3</th>\n",
              "      <td>0</td>\n",
              "      <td>240</td>\n",
              "      <td>-159</td>\n",
              "      <td>98</td>\n",
              "      <td>166</td>\n",
              "      <td>20</td>\n",
              "      <td>8</td>\n",
              "      <td>0</td>\n",
              "      <td>0</td>\n",
              "      <td>1</td>\n",
              "    </tr>\n",
              "    <tr>\n",
              "      <th>4</th>\n",
              "      <td>0</td>\n",
              "      <td>240</td>\n",
              "      <td>-159</td>\n",
              "      <td>98</td>\n",
              "      <td>215</td>\n",
              "      <td>30</td>\n",
              "      <td>8</td>\n",
              "      <td>0</td>\n",
              "      <td>0</td>\n",
              "      <td>1</td>\n",
              "    </tr>\n",
              "  </tbody>\n",
              "</table>\n",
              "</div>"
            ],
            "text/plain": [
              "   num_of_prev_attempts  ...  assessment_type_TMA\n",
              "0                     0  ...                    1\n",
              "1                     0  ...                    1\n",
              "2                     0  ...                    1\n",
              "3                     0  ...                    1\n",
              "4                     0  ...                    1\n",
              "\n",
              "[5 rows x 10 columns]"
            ]
          },
          "metadata": {},
          "execution_count": 6
        }
      ]
    },
    {
      "cell_type": "code",
      "metadata": {
        "id": "tIUjwazrZJ80"
      },
      "source": [
        "num_cols = ['num_of_prev_attempts','score']\n",
        "for i in num_cols:\n",
        "    df[i] = df[i].astype('int8')"
      ],
      "execution_count": 33,
      "outputs": []
    },
    {
      "cell_type": "code",
      "metadata": {
        "colab": {
          "base_uri": "https://localhost:8080/"
        },
        "id": "ngDTSDyqZJ81",
        "outputId": "f3816201-46ec-4290-d541-71762c184995"
      },
      "source": [
        "df.info()"
      ],
      "execution_count": 8,
      "outputs": [
        {
          "output_type": "stream",
          "name": "stdout",
          "text": [
            "<class 'pandas.core.frame.DataFrame'>\n",
            "RangeIndex: 3748833 entries, 0 to 3748832\n",
            "Data columns (total 10 columns):\n",
            " #   Column                Dtype\n",
            "---  ------                -----\n",
            " 0   num_of_prev_attempts  int8 \n",
            " 1   studied_credits       int16\n",
            " 2   date_registration     int16\n",
            " 3   sum_click             int16\n",
            " 4   date_assessment       int16\n",
            " 5   weight                int16\n",
            " 6   score                 int8 \n",
            " 7   assessment_type_CMA   uint8\n",
            " 8   assessment_type_Exam  uint8\n",
            " 9   assessment_type_TMA   uint8\n",
            "dtypes: int16(5), int8(2), uint8(3)\n",
            "memory usage: 53.6 MB\n"
          ]
        }
      ]
    },
    {
      "cell_type": "code",
      "metadata": {
        "colab": {
          "base_uri": "https://localhost:8080/",
          "height": 363
        },
        "id": "WYP_2IAQZJ81",
        "outputId": "4b76a9b0-c2b6-450b-fa6e-68047285a8a0"
      },
      "source": [
        "df.sample(10)"
      ],
      "execution_count": 9,
      "outputs": [
        {
          "output_type": "execute_result",
          "data": {
            "text/html": [
              "<div>\n",
              "<style scoped>\n",
              "    .dataframe tbody tr th:only-of-type {\n",
              "        vertical-align: middle;\n",
              "    }\n",
              "\n",
              "    .dataframe tbody tr th {\n",
              "        vertical-align: top;\n",
              "    }\n",
              "\n",
              "    .dataframe thead th {\n",
              "        text-align: right;\n",
              "    }\n",
              "</style>\n",
              "<table border=\"1\" class=\"dataframe\">\n",
              "  <thead>\n",
              "    <tr style=\"text-align: right;\">\n",
              "      <th></th>\n",
              "      <th>num_of_prev_attempts</th>\n",
              "      <th>studied_credits</th>\n",
              "      <th>date_registration</th>\n",
              "      <th>sum_click</th>\n",
              "      <th>date_assessment</th>\n",
              "      <th>weight</th>\n",
              "      <th>score</th>\n",
              "      <th>assessment_type_CMA</th>\n",
              "      <th>assessment_type_Exam</th>\n",
              "      <th>assessment_type_TMA</th>\n",
              "    </tr>\n",
              "  </thead>\n",
              "  <tbody>\n",
              "    <tr>\n",
              "      <th>2155403</th>\n",
              "      <td>0</td>\n",
              "      <td>60</td>\n",
              "      <td>-21</td>\n",
              "      <td>45</td>\n",
              "      <td>222</td>\n",
              "      <td>0</td>\n",
              "      <td>9</td>\n",
              "      <td>1</td>\n",
              "      <td>0</td>\n",
              "      <td>0</td>\n",
              "    </tr>\n",
              "    <tr>\n",
              "      <th>2566083</th>\n",
              "      <td>0</td>\n",
              "      <td>60</td>\n",
              "      <td>-29</td>\n",
              "      <td>3</td>\n",
              "      <td>96</td>\n",
              "      <td>25</td>\n",
              "      <td>9</td>\n",
              "      <td>0</td>\n",
              "      <td>0</td>\n",
              "      <td>1</td>\n",
              "    </tr>\n",
              "    <tr>\n",
              "      <th>2931192</th>\n",
              "      <td>0</td>\n",
              "      <td>60</td>\n",
              "      <td>-17</td>\n",
              "      <td>122</td>\n",
              "      <td>227</td>\n",
              "      <td>0</td>\n",
              "      <td>7</td>\n",
              "      <td>1</td>\n",
              "      <td>0</td>\n",
              "      <td>0</td>\n",
              "    </tr>\n",
              "    <tr>\n",
              "      <th>3732052</th>\n",
              "      <td>0</td>\n",
              "      <td>30</td>\n",
              "      <td>-85</td>\n",
              "      <td>19</td>\n",
              "      <td>124</td>\n",
              "      <td>0</td>\n",
              "      <td>6</td>\n",
              "      <td>0</td>\n",
              "      <td>0</td>\n",
              "      <td>1</td>\n",
              "    </tr>\n",
              "    <tr>\n",
              "      <th>971459</th>\n",
              "      <td>0</td>\n",
              "      <td>150</td>\n",
              "      <td>-88</td>\n",
              "      <td>32</td>\n",
              "      <td>18</td>\n",
              "      <td>2</td>\n",
              "      <td>6</td>\n",
              "      <td>1</td>\n",
              "      <td>0</td>\n",
              "      <td>0</td>\n",
              "    </tr>\n",
              "    <tr>\n",
              "      <th>2479461</th>\n",
              "      <td>0</td>\n",
              "      <td>120</td>\n",
              "      <td>-29</td>\n",
              "      <td>54</td>\n",
              "      <td>236</td>\n",
              "      <td>0</td>\n",
              "      <td>8</td>\n",
              "      <td>1</td>\n",
              "      <td>0</td>\n",
              "      <td>0</td>\n",
              "    </tr>\n",
              "    <tr>\n",
              "      <th>3063370</th>\n",
              "      <td>0</td>\n",
              "      <td>60</td>\n",
              "      <td>-67</td>\n",
              "      <td>64</td>\n",
              "      <td>227</td>\n",
              "      <td>0</td>\n",
              "      <td>8</td>\n",
              "      <td>1</td>\n",
              "      <td>0</td>\n",
              "      <td>0</td>\n",
              "    </tr>\n",
              "    <tr>\n",
              "      <th>3622636</th>\n",
              "      <td>0</td>\n",
              "      <td>60</td>\n",
              "      <td>-4</td>\n",
              "      <td>115</td>\n",
              "      <td>241</td>\n",
              "      <td>0</td>\n",
              "      <td>7</td>\n",
              "      <td>1</td>\n",
              "      <td>0</td>\n",
              "      <td>0</td>\n",
              "    </tr>\n",
              "    <tr>\n",
              "      <th>910861</th>\n",
              "      <td>0</td>\n",
              "      <td>120</td>\n",
              "      <td>-60</td>\n",
              "      <td>22</td>\n",
              "      <td>207</td>\n",
              "      <td>100</td>\n",
              "      <td>4</td>\n",
              "      <td>0</td>\n",
              "      <td>1</td>\n",
              "      <td>0</td>\n",
              "    </tr>\n",
              "    <tr>\n",
              "      <th>2269742</th>\n",
              "      <td>0</td>\n",
              "      <td>130</td>\n",
              "      <td>-73</td>\n",
              "      <td>77</td>\n",
              "      <td>222</td>\n",
              "      <td>0</td>\n",
              "      <td>7</td>\n",
              "      <td>1</td>\n",
              "      <td>0</td>\n",
              "      <td>0</td>\n",
              "    </tr>\n",
              "  </tbody>\n",
              "</table>\n",
              "</div>"
            ],
            "text/plain": [
              "         num_of_prev_attempts  ...  assessment_type_TMA\n",
              "2155403                     0  ...                    0\n",
              "2566083                     0  ...                    1\n",
              "2931192                     0  ...                    0\n",
              "3732052                     0  ...                    1\n",
              "971459                      0  ...                    0\n",
              "2479461                     0  ...                    0\n",
              "3063370                     0  ...                    0\n",
              "3622636                     0  ...                    0\n",
              "910861                      0  ...                    0\n",
              "2269742                     0  ...                    0\n",
              "\n",
              "[10 rows x 10 columns]"
            ]
          },
          "metadata": {},
          "execution_count": 9
        }
      ]
    },
    {
      "cell_type": "code",
      "metadata": {
        "colab": {
          "base_uri": "https://localhost:8080/"
        },
        "id": "isr7MRwspPIB",
        "outputId": "6d94f665-be06-45e9-a3a4-355567f7d0b7"
      },
      "source": [
        "df['score'].unique()"
      ],
      "execution_count": 10,
      "outputs": [
        {
          "output_type": "execute_result",
          "data": {
            "text/plain": [
              "array([7, 8, 6, 5, 2, 3, 4, 1, 9, 0], dtype=int8)"
            ]
          },
          "metadata": {},
          "execution_count": 10
        }
      ]
    },
    {
      "cell_type": "code",
      "metadata": {
        "colab": {
          "base_uri": "https://localhost:8080/"
        },
        "id": "2qvUePpNZJ8y",
        "outputId": "7d51852b-40c8-4cc6-eec6-a72bd680f532"
      },
      "source": [
        "targets = []\n",
        "targets=[str(i) for i in range(10)]\n",
        "targets"
      ],
      "execution_count": 34,
      "outputs": [
        {
          "output_type": "execute_result",
          "data": {
            "text/plain": [
              "['0', '1', '2', '3', '4', '5', '6', '7', '8', '9']"
            ]
          },
          "metadata": {},
          "execution_count": 34
        }
      ]
    },
    {
      "cell_type": "code",
      "metadata": {
        "colab": {
          "base_uri": "https://localhost:8080/"
        },
        "id": "tkxND59LZv9f",
        "outputId": "8d07dfee-1359-49e3-f67d-7791c212ac9a"
      },
      "source": [
        "df.isna().sum().sum()"
      ],
      "execution_count": 12,
      "outputs": [
        {
          "output_type": "execute_result",
          "data": {
            "text/plain": [
              "0"
            ]
          },
          "metadata": {},
          "execution_count": 12
        }
      ]
    },
    {
      "cell_type": "code",
      "metadata": {
        "colab": {
          "base_uri": "https://localhost:8080/"
        },
        "id": "3JI8M7fdZ4Bc",
        "outputId": "611e3cf7-bb7d-452b-e111-965be8b57735"
      },
      "source": [
        "df.shape"
      ],
      "execution_count": 13,
      "outputs": [
        {
          "output_type": "execute_result",
          "data": {
            "text/plain": [
              "(3748833, 10)"
            ]
          },
          "metadata": {},
          "execution_count": 13
        }
      ]
    },
    {
      "cell_type": "code",
      "metadata": {
        "id": "pV3e3W7KZJ82"
      },
      "source": [
        "y = df['score']\n",
        "X = df.drop(['score'],axis = 1)"
      ],
      "execution_count": 14,
      "outputs": []
    },
    {
      "cell_type": "code",
      "metadata": {
        "colab": {
          "base_uri": "https://localhost:8080/"
        },
        "id": "Oh0ko4goZJ82",
        "outputId": "910d6ca4-cbf0-4773-b407-3ba169af1386"
      },
      "source": [
        "print(X,y)\n",
        "print(X.shape,y.shape)"
      ],
      "execution_count": 15,
      "outputs": [
        {
          "output_type": "stream",
          "name": "stdout",
          "text": [
            "         num_of_prev_attempts  ...  assessment_type_TMA\n",
            "0                           0  ...                    1\n",
            "1                           0  ...                    1\n",
            "2                           0  ...                    1\n",
            "3                           0  ...                    1\n",
            "4                           0  ...                    1\n",
            "...                       ...  ...                  ...\n",
            "3748828                     0  ...                    1\n",
            "3748829                     0  ...                    1\n",
            "3748830                     0  ...                    1\n",
            "3748831                     0  ...                    1\n",
            "3748832                     0  ...                    0\n",
            "\n",
            "[3748833 rows x 9 columns] 0          7\n",
            "1          8\n",
            "2          7\n",
            "3          8\n",
            "4          8\n",
            "          ..\n",
            "3748828    7\n",
            "3748829    5\n",
            "3748830    7\n",
            "3748831    5\n",
            "3748832    9\n",
            "Name: score, Length: 3748833, dtype: int8\n",
            "(3748833, 9) (3748833,)\n"
          ]
        }
      ]
    },
    {
      "cell_type": "code",
      "metadata": {
        "id": "vLaCkHleZJ83"
      },
      "source": [
        "from sklearn.model_selection import train_test_split\n",
        "X_train, X_test, y_train, y_test = train_test_split(X, y, test_size=0.33, random_state=42)"
      ],
      "execution_count": 16,
      "outputs": []
    },
    {
      "cell_type": "markdown",
      "metadata": {
        "id": "qGGSOgBcZJ83"
      },
      "source": [
        "Classification Models"
      ]
    },
    {
      "cell_type": "markdown",
      "metadata": {
        "id": "3dBcowmgv7_W"
      },
      "source": [
        "####XGBoost final"
      ]
    },
    {
      "cell_type": "code",
      "metadata": {
        "colab": {
          "base_uri": "https://localhost:8080/",
          "height": 423
        },
        "id": "rzBKhJB3v-fh",
        "outputId": "b3bbf8e7-5195-495f-8ada-089b1cce5c86"
      },
      "source": [
        "X_train"
      ],
      "execution_count": 17,
      "outputs": [
        {
          "output_type": "execute_result",
          "data": {
            "text/html": [
              "<div>\n",
              "<style scoped>\n",
              "    .dataframe tbody tr th:only-of-type {\n",
              "        vertical-align: middle;\n",
              "    }\n",
              "\n",
              "    .dataframe tbody tr th {\n",
              "        vertical-align: top;\n",
              "    }\n",
              "\n",
              "    .dataframe thead th {\n",
              "        text-align: right;\n",
              "    }\n",
              "</style>\n",
              "<table border=\"1\" class=\"dataframe\">\n",
              "  <thead>\n",
              "    <tr style=\"text-align: right;\">\n",
              "      <th></th>\n",
              "      <th>num_of_prev_attempts</th>\n",
              "      <th>studied_credits</th>\n",
              "      <th>date_registration</th>\n",
              "      <th>sum_click</th>\n",
              "      <th>date_assessment</th>\n",
              "      <th>weight</th>\n",
              "      <th>assessment_type_CMA</th>\n",
              "      <th>assessment_type_Exam</th>\n",
              "      <th>assessment_type_TMA</th>\n",
              "    </tr>\n",
              "  </thead>\n",
              "  <tbody>\n",
              "    <tr>\n",
              "      <th>18373</th>\n",
              "      <td>0</td>\n",
              "      <td>60</td>\n",
              "      <td>-52</td>\n",
              "      <td>36</td>\n",
              "      <td>166</td>\n",
              "      <td>20</td>\n",
              "      <td>0</td>\n",
              "      <td>0</td>\n",
              "      <td>1</td>\n",
              "    </tr>\n",
              "    <tr>\n",
              "      <th>3070497</th>\n",
              "      <td>0</td>\n",
              "      <td>60</td>\n",
              "      <td>-28</td>\n",
              "      <td>27</td>\n",
              "      <td>129</td>\n",
              "      <td>25</td>\n",
              "      <td>0</td>\n",
              "      <td>0</td>\n",
              "      <td>1</td>\n",
              "    </tr>\n",
              "    <tr>\n",
              "      <th>2933290</th>\n",
              "      <td>0</td>\n",
              "      <td>60</td>\n",
              "      <td>-40</td>\n",
              "      <td>5</td>\n",
              "      <td>171</td>\n",
              "      <td>25</td>\n",
              "      <td>0</td>\n",
              "      <td>0</td>\n",
              "      <td>1</td>\n",
              "    </tr>\n",
              "    <tr>\n",
              "      <th>2882892</th>\n",
              "      <td>0</td>\n",
              "      <td>90</td>\n",
              "      <td>-25</td>\n",
              "      <td>115</td>\n",
              "      <td>227</td>\n",
              "      <td>0</td>\n",
              "      <td>1</td>\n",
              "      <td>0</td>\n",
              "      <td>0</td>\n",
              "    </tr>\n",
              "    <tr>\n",
              "      <th>320739</th>\n",
              "      <td>0</td>\n",
              "      <td>60</td>\n",
              "      <td>-36</td>\n",
              "      <td>15</td>\n",
              "      <td>96</td>\n",
              "      <td>18</td>\n",
              "      <td>0</td>\n",
              "      <td>0</td>\n",
              "      <td>1</td>\n",
              "    </tr>\n",
              "    <tr>\n",
              "      <th>...</th>\n",
              "      <td>...</td>\n",
              "      <td>...</td>\n",
              "      <td>...</td>\n",
              "      <td>...</td>\n",
              "      <td>...</td>\n",
              "      <td>...</td>\n",
              "      <td>...</td>\n",
              "      <td>...</td>\n",
              "      <td>...</td>\n",
              "    </tr>\n",
              "    <tr>\n",
              "      <th>2356330</th>\n",
              "      <td>1</td>\n",
              "      <td>150</td>\n",
              "      <td>-25</td>\n",
              "      <td>7</td>\n",
              "      <td>222</td>\n",
              "      <td>0</td>\n",
              "      <td>1</td>\n",
              "      <td>0</td>\n",
              "      <td>0</td>\n",
              "    </tr>\n",
              "    <tr>\n",
              "      <th>3511566</th>\n",
              "      <td>0</td>\n",
              "      <td>60</td>\n",
              "      <td>-60</td>\n",
              "      <td>57</td>\n",
              "      <td>94</td>\n",
              "      <td>25</td>\n",
              "      <td>0</td>\n",
              "      <td>0</td>\n",
              "      <td>1</td>\n",
              "    </tr>\n",
              "    <tr>\n",
              "      <th>2229084</th>\n",
              "      <td>0</td>\n",
              "      <td>180</td>\n",
              "      <td>-106</td>\n",
              "      <td>62</td>\n",
              "      <td>222</td>\n",
              "      <td>0</td>\n",
              "      <td>1</td>\n",
              "      <td>0</td>\n",
              "      <td>0</td>\n",
              "    </tr>\n",
              "    <tr>\n",
              "      <th>2768307</th>\n",
              "      <td>0</td>\n",
              "      <td>90</td>\n",
              "      <td>-53</td>\n",
              "      <td>23</td>\n",
              "      <td>173</td>\n",
              "      <td>25</td>\n",
              "      <td>0</td>\n",
              "      <td>0</td>\n",
              "      <td>1</td>\n",
              "    </tr>\n",
              "    <tr>\n",
              "      <th>2219110</th>\n",
              "      <td>1</td>\n",
              "      <td>120</td>\n",
              "      <td>-53</td>\n",
              "      <td>40</td>\n",
              "      <td>222</td>\n",
              "      <td>0</td>\n",
              "      <td>1</td>\n",
              "      <td>0</td>\n",
              "      <td>0</td>\n",
              "    </tr>\n",
              "  </tbody>\n",
              "</table>\n",
              "<p>2511718 rows × 9 columns</p>\n",
              "</div>"
            ],
            "text/plain": [
              "         num_of_prev_attempts  ...  assessment_type_TMA\n",
              "18373                       0  ...                    1\n",
              "3070497                     0  ...                    1\n",
              "2933290                     0  ...                    1\n",
              "2882892                     0  ...                    0\n",
              "320739                      0  ...                    1\n",
              "...                       ...  ...                  ...\n",
              "2356330                     1  ...                    0\n",
              "3511566                     0  ...                    1\n",
              "2229084                     0  ...                    0\n",
              "2768307                     0  ...                    1\n",
              "2219110                     1  ...                    0\n",
              "\n",
              "[2511718 rows x 9 columns]"
            ]
          },
          "metadata": {},
          "execution_count": 17
        }
      ]
    },
    {
      "cell_type": "code",
      "metadata": {
        "colab": {
          "base_uri": "https://localhost:8080/",
          "height": 423
        },
        "id": "RC0DtYofwAGN",
        "outputId": "a434047a-ab05-4e08-b6f0-17a5e1e96f2a"
      },
      "source": [
        "X_test"
      ],
      "execution_count": 18,
      "outputs": [
        {
          "output_type": "execute_result",
          "data": {
            "text/html": [
              "<div>\n",
              "<style scoped>\n",
              "    .dataframe tbody tr th:only-of-type {\n",
              "        vertical-align: middle;\n",
              "    }\n",
              "\n",
              "    .dataframe tbody tr th {\n",
              "        vertical-align: top;\n",
              "    }\n",
              "\n",
              "    .dataframe thead th {\n",
              "        text-align: right;\n",
              "    }\n",
              "</style>\n",
              "<table border=\"1\" class=\"dataframe\">\n",
              "  <thead>\n",
              "    <tr style=\"text-align: right;\">\n",
              "      <th></th>\n",
              "      <th>num_of_prev_attempts</th>\n",
              "      <th>studied_credits</th>\n",
              "      <th>date_registration</th>\n",
              "      <th>sum_click</th>\n",
              "      <th>date_assessment</th>\n",
              "      <th>weight</th>\n",
              "      <th>assessment_type_CMA</th>\n",
              "      <th>assessment_type_Exam</th>\n",
              "      <th>assessment_type_TMA</th>\n",
              "    </tr>\n",
              "  </thead>\n",
              "  <tbody>\n",
              "    <tr>\n",
              "      <th>3709528</th>\n",
              "      <td>0</td>\n",
              "      <td>30</td>\n",
              "      <td>-10</td>\n",
              "      <td>6</td>\n",
              "      <td>166</td>\n",
              "      <td>0</td>\n",
              "      <td>0</td>\n",
              "      <td>0</td>\n",
              "      <td>1</td>\n",
              "    </tr>\n",
              "    <tr>\n",
              "      <th>1007176</th>\n",
              "      <td>0</td>\n",
              "      <td>60</td>\n",
              "      <td>-155</td>\n",
              "      <td>65</td>\n",
              "      <td>32</td>\n",
              "      <td>9</td>\n",
              "      <td>0</td>\n",
              "      <td>0</td>\n",
              "      <td>1</td>\n",
              "    </tr>\n",
              "    <tr>\n",
              "      <th>47851</th>\n",
              "      <td>0</td>\n",
              "      <td>60</td>\n",
              "      <td>-45</td>\n",
              "      <td>9</td>\n",
              "      <td>19</td>\n",
              "      <td>10</td>\n",
              "      <td>0</td>\n",
              "      <td>0</td>\n",
              "      <td>1</td>\n",
              "    </tr>\n",
              "    <tr>\n",
              "      <th>3179855</th>\n",
              "      <td>0</td>\n",
              "      <td>60</td>\n",
              "      <td>-144</td>\n",
              "      <td>143</td>\n",
              "      <td>241</td>\n",
              "      <td>0</td>\n",
              "      <td>1</td>\n",
              "      <td>0</td>\n",
              "      <td>0</td>\n",
              "    </tr>\n",
              "    <tr>\n",
              "      <th>732570</th>\n",
              "      <td>0</td>\n",
              "      <td>210</td>\n",
              "      <td>-62</td>\n",
              "      <td>18</td>\n",
              "      <td>200</td>\n",
              "      <td>100</td>\n",
              "      <td>0</td>\n",
              "      <td>1</td>\n",
              "      <td>0</td>\n",
              "    </tr>\n",
              "    <tr>\n",
              "      <th>...</th>\n",
              "      <td>...</td>\n",
              "      <td>...</td>\n",
              "      <td>...</td>\n",
              "      <td>...</td>\n",
              "      <td>...</td>\n",
              "      <td>...</td>\n",
              "      <td>...</td>\n",
              "      <td>...</td>\n",
              "      <td>...</td>\n",
              "    </tr>\n",
              "    <tr>\n",
              "      <th>3044879</th>\n",
              "      <td>0</td>\n",
              "      <td>60</td>\n",
              "      <td>-99</td>\n",
              "      <td>45</td>\n",
              "      <td>52</td>\n",
              "      <td>12</td>\n",
              "      <td>0</td>\n",
              "      <td>0</td>\n",
              "      <td>1</td>\n",
              "    </tr>\n",
              "    <tr>\n",
              "      <th>3183473</th>\n",
              "      <td>0</td>\n",
              "      <td>60</td>\n",
              "      <td>-28</td>\n",
              "      <td>38</td>\n",
              "      <td>199</td>\n",
              "      <td>25</td>\n",
              "      <td>0</td>\n",
              "      <td>0</td>\n",
              "      <td>1</td>\n",
              "    </tr>\n",
              "    <tr>\n",
              "      <th>721203</th>\n",
              "      <td>0</td>\n",
              "      <td>90</td>\n",
              "      <td>-29</td>\n",
              "      <td>11</td>\n",
              "      <td>151</td>\n",
              "      <td>22</td>\n",
              "      <td>0</td>\n",
              "      <td>0</td>\n",
              "      <td>1</td>\n",
              "    </tr>\n",
              "    <tr>\n",
              "      <th>1736973</th>\n",
              "      <td>1</td>\n",
              "      <td>60</td>\n",
              "      <td>-91</td>\n",
              "      <td>4</td>\n",
              "      <td>41</td>\n",
              "      <td>10</td>\n",
              "      <td>0</td>\n",
              "      <td>0</td>\n",
              "      <td>1</td>\n",
              "    </tr>\n",
              "    <tr>\n",
              "      <th>988446</th>\n",
              "      <td>0</td>\n",
              "      <td>60</td>\n",
              "      <td>-113</td>\n",
              "      <td>70</td>\n",
              "      <td>207</td>\n",
              "      <td>22</td>\n",
              "      <td>0</td>\n",
              "      <td>0</td>\n",
              "      <td>1</td>\n",
              "    </tr>\n",
              "  </tbody>\n",
              "</table>\n",
              "<p>1237115 rows × 9 columns</p>\n",
              "</div>"
            ],
            "text/plain": [
              "         num_of_prev_attempts  ...  assessment_type_TMA\n",
              "3709528                     0  ...                    1\n",
              "1007176                     0  ...                    1\n",
              "47851                       0  ...                    1\n",
              "3179855                     0  ...                    0\n",
              "732570                      0  ...                    0\n",
              "...                       ...  ...                  ...\n",
              "3044879                     0  ...                    1\n",
              "3183473                     0  ...                    1\n",
              "721203                      0  ...                    1\n",
              "1736973                     1  ...                    1\n",
              "988446                      0  ...                    1\n",
              "\n",
              "[1237115 rows x 9 columns]"
            ]
          },
          "metadata": {},
          "execution_count": 18
        }
      ]
    },
    {
      "cell_type": "code",
      "metadata": {
        "colab": {
          "base_uri": "https://localhost:8080/"
        },
        "id": "xoOlJ2FtwDHT",
        "outputId": "d1593255-69d4-4175-faa6-6ccab08c0ea2"
      },
      "source": [
        "y_train"
      ],
      "execution_count": 19,
      "outputs": [
        {
          "output_type": "execute_result",
          "data": {
            "text/plain": [
              "18373      6\n",
              "3070497    5\n",
              "2933290    9\n",
              "2882892    9\n",
              "320739     5\n",
              "          ..\n",
              "2356330    7\n",
              "3511566    9\n",
              "2229084    8\n",
              "2768307    9\n",
              "2219110    8\n",
              "Name: score, Length: 2511718, dtype: int8"
            ]
          },
          "metadata": {},
          "execution_count": 19
        }
      ]
    },
    {
      "cell_type": "code",
      "metadata": {
        "colab": {
          "base_uri": "https://localhost:8080/"
        },
        "id": "PdIIkaoVwHMg",
        "outputId": "67c71aa6-2a6a-43f8-c6b8-70db78c382df"
      },
      "source": [
        "y_test"
      ],
      "execution_count": 20,
      "outputs": [
        {
          "output_type": "execute_result",
          "data": {
            "text/plain": [
              "3709528    6\n",
              "1007176    9\n",
              "47851      8\n",
              "3179855    9\n",
              "732570     5\n",
              "          ..\n",
              "3044879    8\n",
              "3183473    7\n",
              "721203     7\n",
              "1736973    5\n",
              "988446     8\n",
              "Name: score, Length: 1237115, dtype: int8"
            ]
          },
          "metadata": {},
          "execution_count": 20
        }
      ]
    },
    {
      "cell_type": "code",
      "metadata": {
        "colab": {
          "base_uri": "https://localhost:8080/"
        },
        "id": "5msPLV2AwIO0",
        "outputId": "30b39cd4-cb1b-4a30-ba55-7f4710958cde"
      },
      "source": [
        "from sklearn.metrics import accuracy_score\n",
        "from sklearn.preprocessing import StandardScaler\n",
        "\n",
        "\n",
        "scaler = StandardScaler()\n",
        "\n",
        "import xgboost as xgb\n",
        "\n",
        "\n",
        "# Init classifier\n",
        "xgb_cl = xgb.XGBClassifier()\n",
        "\n",
        "\n",
        "# Fit\n",
        "xgb_cl.fit(scaler.fit_transform(X_train), y_train)\n",
        "\n",
        "# Predict\n",
        "preds = xgb_cl.predict(scaler.fit_transform(X_test))\n",
        "accuracy_score(y_test, preds)"
      ],
      "execution_count": 21,
      "outputs": [
        {
          "output_type": "execute_result",
          "data": {
            "text/plain": [
              "0.3118578305169689"
            ]
          },
          "metadata": {},
          "execution_count": 21
        }
      ]
    },
    {
      "cell_type": "code",
      "metadata": {
        "colab": {
          "base_uri": "https://localhost:8080/"
        },
        "id": "lNzHc0A27512",
        "outputId": "be982d26-51c9-4430-c700-db75ab8a1849"
      },
      "source": [
        "print(preds)"
      ],
      "execution_count": 22,
      "outputs": [
        {
          "output_type": "stream",
          "name": "stdout",
          "text": [
            "[7 9 7 ... 9 7 9]\n"
          ]
        }
      ]
    },
    {
      "cell_type": "code",
      "metadata": {
        "colab": {
          "base_uri": "https://localhost:8080/"
        },
        "id": "2YbOppgg1gaA",
        "outputId": "9d2a4cc4-26ef-4ee3-a892-f59d1aeec252"
      },
      "source": [
        "from sklearn.metrics import classification_report \n",
        "\n",
        "print(classification_report(y_test, preds, target_names = targets))"
      ],
      "execution_count": 23,
      "outputs": [
        {
          "output_type": "stream",
          "name": "stderr",
          "text": [
            "/usr/local/lib/python3.7/dist-packages/sklearn/metrics/_classification.py:1308: UndefinedMetricWarning: Precision and F-score are ill-defined and being set to 0.0 in labels with no predicted samples. Use `zero_division` parameter to control this behavior.\n",
            "  _warn_prf(average, modifier, msg_start, len(result))\n",
            "/usr/local/lib/python3.7/dist-packages/sklearn/metrics/_classification.py:1308: UndefinedMetricWarning: Precision and F-score are ill-defined and being set to 0.0 in labels with no predicted samples. Use `zero_division` parameter to control this behavior.\n",
            "  _warn_prf(average, modifier, msg_start, len(result))\n"
          ]
        },
        {
          "output_type": "stream",
          "name": "stdout",
          "text": [
            "              precision    recall  f1-score   support\n",
            "\n",
            "           0       0.46      0.10      0.17      4847\n",
            "           1       0.00      0.00      0.00      7959\n",
            "           2       0.00      0.00      0.00     14585\n",
            "           3       0.00      0.00      0.00     31095\n",
            "           4       0.31      0.00      0.00     50963\n",
            "           5       0.25      0.02      0.04    107742\n",
            "           6       0.29      0.03      0.05    171261\n",
            "           7       0.28      0.24      0.26    285374\n",
            "           8       0.30      0.68      0.42    304588\n",
            "           9       0.38      0.40      0.39    258701\n",
            "\n",
            "    accuracy                           0.31   1237115\n",
            "   macro avg       0.23      0.15      0.13   1237115\n",
            "weighted avg       0.29      0.31      0.25   1237115\n",
            "\n"
          ]
        },
        {
          "output_type": "stream",
          "name": "stderr",
          "text": [
            "/usr/local/lib/python3.7/dist-packages/sklearn/metrics/_classification.py:1308: UndefinedMetricWarning: Precision and F-score are ill-defined and being set to 0.0 in labels with no predicted samples. Use `zero_division` parameter to control this behavior.\n",
            "  _warn_prf(average, modifier, msg_start, len(result))\n"
          ]
        }
      ]
    },
    {
      "cell_type": "code",
      "metadata": {
        "colab": {
          "base_uri": "https://localhost:8080/"
        },
        "id": "3ENvdWpRGByA",
        "outputId": "055a0569-951b-4dee-ce60-846720da416d"
      },
      "source": [
        "from sklearn.metrics import log_loss \n",
        "y_prob = xgb_cl.predict_proba(X_test)\n",
        "log_loss(y_test, y_prob)"
      ],
      "execution_count": 36,
      "outputs": [
        {
          "output_type": "stream",
          "name": "stdout",
          "text": [
            "1.71694\n"
          ]
        }
      ]
    },
    {
      "cell_type": "code",
      "metadata": {
        "id": "98jXBNovw2dt"
      },
      "source": [
        "from sklearn.metrics import confusion_matrix\n",
        "c = confusion_matrix(y_test, preds)"
      ],
      "execution_count": 25,
      "outputs": []
    },
    {
      "cell_type": "code",
      "metadata": {
        "colab": {
          "base_uri": "https://localhost:8080/",
          "height": 268
        },
        "id": "pUzv7k4Yw9S6",
        "outputId": "54fdfd7b-f21c-4d5c-e3d6-a48f33b0e347"
      },
      "source": [
        "\n",
        "import numpy as np; np.random.seed(0)\n",
        "import seaborn as sns; sns.set_theme()\n",
        "ax = sns.heatmap(c, cmap=\"Greens\")"
      ],
      "execution_count": 26,
      "outputs": [
        {
          "output_type": "display_data",
          "data": {
            "image/png": "[encoded data removed]",
            "text/plain": [
              "<Figure size 432x288 with 2 Axes>"
            ]
          },
          "metadata": {}
        }
      ]
    }
  ]
}